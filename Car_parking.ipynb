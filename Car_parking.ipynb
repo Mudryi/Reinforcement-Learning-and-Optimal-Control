{
 "cells": [
  {
   "cell_type": "code",
   "execution_count": 2,
   "metadata": {
    "collapsed": true,
    "ExecuteTime": {
     "end_time": "2023-10-23T20:40:51.555548Z",
     "start_time": "2023-10-23T20:40:45.144669Z"
    }
   },
   "outputs": [],
   "source": [
    "import numpy as np"
   ]
  },
  {
   "cell_type": "code",
   "execution_count": 5,
   "outputs": [],
   "source": [
    "N = 100 #numbers of parking spaces\n",
    "C = 500 #garage cost"
   ],
   "metadata": {
    "collapsed": false,
    "ExecuteTime": {
     "end_time": "2023-10-23T20:42:53.221962Z",
     "start_time": "2023-10-23T20:42:53.216900Z"
    }
   }
  },
  {
   "cell_type": "code",
   "execution_count": 11,
   "outputs": [],
   "source": [
    "def cost_of_parking(k):\n",
    "    return k\n",
    "\n",
    "def probability_of_free(k):\n",
    "    return 1/k"
   ],
   "metadata": {
    "collapsed": false,
    "ExecuteTime": {
     "end_time": "2023-10-23T20:50:02.250116Z",
     "start_time": "2023-10-23T20:50:02.247138Z"
    }
   }
  },
  {
   "cell_type": "markdown",
   "source": [],
   "metadata": {
    "collapsed": false
   }
  },
  {
   "cell_type": "code",
   "execution_count": 12,
   "outputs": [],
   "source": [
    "def cost_function(k, free):\n",
    "    if free == 1:\n",
    "        if k<N-1:\n",
    "            return min(cost_of_parking(k),\n",
    "                       probability_of_free(k+1)*cost_function(k+1, 1) + (1-probability_of_free(k+1)*cost_function(k+1, 0)))\n",
    "        if k==N-1:\n",
    "            return min(cost_of_parking(N-1), C)\n",
    "    else:\n",
    "        if k<N-1:\n",
    "            return probability_of_free(k+1)*cost_function(k+1, 1) + (1-probability_of_free(k+1)*cost_function(k+1, 0))\n",
    "        if k==N-1:\n",
    "            return C"
   ],
   "metadata": {
    "collapsed": false,
    "ExecuteTime": {
     "end_time": "2023-10-23T20:50:03.825005Z",
     "start_time": "2023-10-23T20:50:03.816402Z"
    }
   }
  },
  {
   "cell_type": "code",
   "execution_count": 18,
   "outputs": [
    {
     "data": {
      "text/plain": "1.0"
     },
     "execution_count": 18,
     "metadata": {},
     "output_type": "execute_result"
    }
   ],
   "source": [
    "cost_function(90, 0)"
   ],
   "metadata": {
    "collapsed": false,
    "ExecuteTime": {
     "end_time": "2023-10-23T20:51:46.105700Z",
     "start_time": "2023-10-23T20:51:46.099250Z"
    }
   }
  }
 ],
 "metadata": {
  "kernelspec": {
   "display_name": "Python 3",
   "language": "python",
   "name": "python3"
  },
  "language_info": {
   "codemirror_mode": {
    "name": "ipython",
    "version": 2
   },
   "file_extension": ".py",
   "mimetype": "text/x-python",
   "name": "python",
   "nbconvert_exporter": "python",
   "pygments_lexer": "ipython2",
   "version": "2.7.6"
  }
 },
 "nbformat": 4,
 "nbformat_minor": 0
}
