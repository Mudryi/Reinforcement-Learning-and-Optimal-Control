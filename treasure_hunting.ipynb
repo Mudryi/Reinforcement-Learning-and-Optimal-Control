{
 "cells": [
  {
   "cell_type": "code",
   "execution_count": 19,
   "metadata": {
    "collapsed": true,
    "ExecuteTime": {
     "end_time": "2023-10-24T11:32:45.675717Z",
     "start_time": "2023-10-24T11:32:45.672954Z"
    }
   },
   "outputs": [],
   "source": [
    "N = 10 # periods of search\n",
    "beta = 0.6 # probability of reveals\n",
    "\n",
    "C = 10 #search cost\n",
    "V = 100 # value of treasure\n",
    "\n",
    "# x[k] - has 2 sates if treasure present or not\n",
    "# u[k] - search or not search\n",
    "# observation - treasure found or not found\n",
    "\n",
    "def p(k, search, found): # probability of treasure present at the beginning of period k\n",
    "    if k==0:\n",
    "        return 0.6\n",
    "\n",
    "    if not search:\n",
    "        return p(k-1, search = False, found=False)\n",
    "    else:\n",
    "        if found:\n",
    "            return 0\n",
    "        else:\n",
    "            return (p(k-1, search = True, found=False)*(1-beta))/(p(k-1, search = True, found=False)*(1-beta)+1-p(k-1, search = True, found=False))"
   ]
  },
  {
   "cell_type": "code",
   "execution_count": 20,
   "outputs": [
    {
     "data": {
      "text/plain": "0.16666666666666666"
     },
     "execution_count": 20,
     "metadata": {},
     "output_type": "execute_result"
    }
   ],
   "source": [
    "C/(beta*V)"
   ],
   "metadata": {
    "collapsed": false,
    "ExecuteTime": {
     "end_time": "2023-10-24T11:33:04.870275Z",
     "start_time": "2023-10-24T11:33:04.863817Z"
    }
   }
  },
  {
   "cell_type": "code",
   "execution_count": 61,
   "outputs": [
    {
     "data": {
      "text/plain": "0.6"
     },
     "execution_count": 61,
     "metadata": {},
     "output_type": "execute_result"
    }
   ],
   "source": [
    "p(0, search= True, found = False)"
   ],
   "metadata": {
    "collapsed": false,
    "ExecuteTime": {
     "end_time": "2023-10-24T11:45:43.109719Z",
     "start_time": "2023-10-24T11:45:43.104865Z"
    }
   }
  },
  {
   "cell_type": "code",
   "execution_count": 68,
   "outputs": [],
   "source": [
    "memory = [None]*(N)\n",
    "def cost_function(k):\n",
    "    if memory[k-1] is not None:\n",
    "        return memory[k-1]\n",
    "\n",
    "    if k == N:\n",
    "        return 0\n",
    "    result = max(cost_function(k+1),-C+p(k, search = True, found=True)*beta*V+(1-p(k, search = True, found=False)*beta)*cost_function(k+1))\n",
    "    memory[k-1] = result\n",
    "    return result"
   ],
   "metadata": {
    "collapsed": false,
    "ExecuteTime": {
     "end_time": "2023-10-24T11:46:39.002067Z",
     "start_time": "2023-10-24T11:46:39.001205Z"
    }
   }
  },
  {
   "cell_type": "code",
   "execution_count": 58,
   "outputs": [
    {
     "data": {
      "text/plain": "[26.0, 0, 0, 0, 0, 0, 0, 0, 0, 0]"
     },
     "execution_count": 58,
     "metadata": {},
     "output_type": "execute_result"
    }
   ],
   "source": [
    "[cost_function(i) for i in range(10)]"
   ],
   "metadata": {
    "collapsed": false,
    "ExecuteTime": {
     "end_time": "2023-10-24T11:45:30.347754Z",
     "start_time": "2023-10-24T11:45:30.344208Z"
    }
   }
  },
  {
   "cell_type": "code",
   "execution_count": 67,
   "outputs": [
    {
     "data": {
      "text/plain": "[0, 0, 0, 0, 0, 0, 0, 0, 0, None]"
     },
     "execution_count": 67,
     "metadata": {},
     "output_type": "execute_result"
    }
   ],
   "source": [
    "memory"
   ],
   "metadata": {
    "collapsed": false,
    "ExecuteTime": {
     "end_time": "2023-10-24T11:46:24.898Z",
     "start_time": "2023-10-24T11:46:24.895450Z"
    }
   }
  },
  {
   "cell_type": "code",
   "execution_count": 69,
   "outputs": [
    {
     "data": {
      "text/plain": "0"
     },
     "execution_count": 69,
     "metadata": {},
     "output_type": "execute_result"
    }
   ],
   "source": [
    "cost_function(4)"
   ],
   "metadata": {
    "collapsed": false,
    "ExecuteTime": {
     "end_time": "2023-10-24T11:46:43.157703Z",
     "start_time": "2023-10-24T11:46:43.149305Z"
    }
   }
  },
  {
   "cell_type": "code",
   "execution_count": null,
   "outputs": [],
   "source": [],
   "metadata": {
    "collapsed": false
   }
  }
 ],
 "metadata": {
  "kernelspec": {
   "display_name": "Python 3",
   "language": "python",
   "name": "python3"
  },
  "language_info": {
   "codemirror_mode": {
    "name": "ipython",
    "version": 2
   },
   "file_extension": ".py",
   "mimetype": "text/x-python",
   "name": "python",
   "nbconvert_exporter": "python",
   "pygments_lexer": "ipython2",
   "version": "2.7.6"
  }
 },
 "nbformat": 4,
 "nbformat_minor": 0
}
